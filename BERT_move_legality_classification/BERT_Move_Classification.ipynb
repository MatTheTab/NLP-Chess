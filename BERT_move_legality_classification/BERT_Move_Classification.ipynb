{
  "cells": [
    {
      "cell_type": "markdown",
      "metadata": {
        "id": "VznDUx75dmd4"
      },
      "source": [
        "# Chess Move Legality Classification Using The BERT Model"
      ]
    },
    {
      "cell_type": "markdown",
      "metadata": {
        "id": "p1cqFr6pdw2_"
      },
      "source": [
        "In this notebook I will attempt to fine-tune the BERT model for classification of legality of the chess moves. The model will be presented a chess-game reresentation in the form of the FEN (Forsyth–Edwards Notation) and a move in the form of a string like e2e3 and will be forced to classify the move as legal or illegal. \n",
        "\n",
        "<b> Note </b> This notebook was run in Colab, for reproducibility please follow the below described steps"
      ]
    },
    {
      "cell_type": "markdown",
      "metadata": {},
      "source": [
        "This notebook was run in Google Colab, if you want to reproduce the results of training the model, please upload this notebook, connect to a GPU, download the data available in the google drive as linked to in the project's README.md, and upload it to a NLP-Chess_Data directory in your drive, then it should work as expected. If you would like to run it locally some changes may be necessary."
      ]
    },
    {
      "cell_type": "markdown",
      "metadata": {
        "id": "r_t3yrn-ROlL"
      },
      "source": [
        "## Installs and Imports"
      ]
    },
    {
      "cell_type": "code",
      "execution_count": 72,
      "metadata": {
        "colab": {
          "base_uri": "https://localhost:8080/"
        },
        "id": "3izPgxTegEv7",
        "outputId": "3793ede1-8882-450c-c9f7-bc5248761924"
      },
      "outputs": [
        {
          "name": "stdout",
          "output_type": "stream",
          "text": [
            "Requirement already satisfied: transformers in /usr/local/lib/python3.10/dist-packages (4.40.1)\n",
            "Requirement already satisfied: filelock in /usr/local/lib/python3.10/dist-packages (from transformers) (3.14.0)\n",
            "Requirement already satisfied: huggingface-hub<1.0,>=0.19.3 in /usr/local/lib/python3.10/dist-packages (from transformers) (0.20.3)\n",
            "Requirement already satisfied: numpy>=1.17 in /usr/local/lib/python3.10/dist-packages (from transformers) (1.25.2)\n",
            "Requirement already satisfied: packaging>=20.0 in /usr/local/lib/python3.10/dist-packages (from transformers) (24.0)\n",
            "Requirement already satisfied: pyyaml>=5.1 in /usr/local/lib/python3.10/dist-packages (from transformers) (6.0.1)\n",
            "Requirement already satisfied: regex!=2019.12.17 in /usr/local/lib/python3.10/dist-packages (from transformers) (2023.12.25)\n",
            "Requirement already satisfied: requests in /usr/local/lib/python3.10/dist-packages (from transformers) (2.31.0)\n",
            "Requirement already satisfied: tokenizers<0.20,>=0.19 in /usr/local/lib/python3.10/dist-packages (from transformers) (0.19.1)\n",
            "Requirement already satisfied: safetensors>=0.4.1 in /usr/local/lib/python3.10/dist-packages (from transformers) (0.4.3)\n",
            "Requirement already satisfied: tqdm>=4.27 in /usr/local/lib/python3.10/dist-packages (from transformers) (4.66.2)\n",
            "Requirement already satisfied: fsspec>=2023.5.0 in /usr/local/lib/python3.10/dist-packages (from huggingface-hub<1.0,>=0.19.3->transformers) (2023.6.0)\n",
            "Requirement already satisfied: typing-extensions>=3.7.4.3 in /usr/local/lib/python3.10/dist-packages (from huggingface-hub<1.0,>=0.19.3->transformers) (4.11.0)\n",
            "Requirement already satisfied: charset-normalizer<4,>=2 in /usr/local/lib/python3.10/dist-packages (from requests->transformers) (3.3.2)\n",
            "Requirement already satisfied: idna<4,>=2.5 in /usr/local/lib/python3.10/dist-packages (from requests->transformers) (3.7)\n",
            "Requirement already satisfied: urllib3<3,>=1.21.1 in /usr/local/lib/python3.10/dist-packages (from requests->transformers) (2.0.7)\n",
            "Requirement already satisfied: certifi>=2017.4.17 in /usr/local/lib/python3.10/dist-packages (from requests->transformers) (2024.2.2)\n"
          ]
        }
      ],
      "source": [
        "!pip install transformers"
      ]
    },
    {
      "cell_type": "code",
      "execution_count": null,
      "metadata": {
        "id": "NwDC8SfcgFW6"
      },
      "outputs": [],
      "source": [
        "import torch\n",
        "import torch.nn as nn\n",
        "from torch.utils.data import Dataset, DataLoader\n",
        "from transformers import BertTokenizer\n",
        "from transformers import BertForSequenceClassification\n",
        "import pandas as pd\n",
        "from pandas import DataFrame\n",
        "import numpy as np\n",
        "from torch.optim import AdamW\n",
        "import warnings\n",
        "from typing import Dict, Callable, Tuple\n",
        "from torch.optim.optimizer import Optimizer\n",
        "from torch.nn import Module\n",
        "from torch.nn.modules.loss import _Loss\n",
        "from google.colab import drive"
      ]
    },
    {
      "cell_type": "code",
      "execution_count": 74,
      "metadata": {
        "id": "B3Oze-oyjqOB"
      },
      "outputs": [],
      "source": [
        "warnings.filterwarnings(\"ignore\")"
      ]
    },
    {
      "cell_type": "markdown",
      "metadata": {
        "id": "jMNbCNTPRWgu"
      },
      "source": [
        "## Data Drive Mounting and Constants Declarations"
      ]
    },
    {
      "cell_type": "code",
      "execution_count": 75,
      "metadata": {
        "colab": {
          "base_uri": "https://localhost:8080/"
        },
        "id": "JJh03Isseh4i",
        "outputId": "f97e426e-265a-4b1b-a227-c78afdf6cb1c"
      },
      "outputs": [
        {
          "name": "stdout",
          "output_type": "stream",
          "text": [
            "Drive already mounted at /content/drive; to attempt to forcibly remount, call drive.mount(\"/content/drive\", force_remount=True).\n"
          ]
        }
      ],
      "source": [
        "drive.mount('/content/drive')"
      ]
    },
    {
      "cell_type": "code",
      "execution_count": 76,
      "metadata": {
        "id": "ffwo_Ccje2sN"
      },
      "outputs": [],
      "source": [
        "EPOCHS = 40\n",
        "BATCH_SIZE = 16\n",
        "PADDING = 82\n",
        "main_directory = \"/content/drive/MyDrive/NLP-Chess_Data\"\n",
        "train_path = \"NLP_Train.csv.gz\"\n",
        "val_path = \"NLP_Val.csv.gz\"\n",
        "test_path = \"NLP_Test.csv.gz\"\n",
        "model_path = \"BERT_Classifier.pth\""
      ]
    },
    {
      "cell_type": "markdown",
      "metadata": {
        "id": "wsCowdy-RfPh"
      },
      "source": [
        "## Functions"
      ]
    },
    {
      "cell_type": "code",
      "execution_count": 77,
      "metadata": {
        "id": "Lxe6-C_2sZuT"
      },
      "outputs": [],
      "source": [
        "def preprocess(df: pd.DataFrame, board_col: str = \"prev_board\",\n",
        "               move_col: str = \"move\") -> pd.DataFrame:\n",
        "    '''\n",
        "    Preprocess the DataFrame by combining the previous\n",
        "    board state and the move into a single\n",
        "    input for the model.\n",
        "\n",
        "    Parameters:\n",
        "    - df (DataFrame): DataFrame containing game data.\n",
        "    - board_col (str): Name of the column containing\n",
        "    the previous board state. Default is \"prev_board\".\n",
        "    - move_col (str): Name of the column containing the\n",
        "    move. Default is \"move\".\n",
        "\n",
        "    Returns:\n",
        "    DataFrame: Preprocessed DataFrame with a new column \"model_input\"\n",
        "    containing combined board state and move.\n",
        "    '''\n",
        "    df[\"model_input\"] = df[board_col] + \" [SEP] \" + df[move_col]\n",
        "    new_input = []\n",
        "    for input_text in df[\"model_input\"]:\n",
        "        i = 0\n",
        "        temp_str = \"\"\n",
        "        while i < len(input_text):\n",
        "            if input_text[i] != \" \" and input_text[i] != \"[\":\n",
        "                temp_str += input_text[i] + \" \"\n",
        "            elif input_text[i] == \"[\":\n",
        "                temp_str += \"[SEP] \"\n",
        "                i += 4\n",
        "            i += 1\n",
        "        new_input.append(temp_str)\n",
        "    df[\"model_input\"] = new_input\n",
        "    return df"
      ]
    },
    {
      "cell_type": "code",
      "execution_count": 78,
      "metadata": {
        "id": "JLDFcJff61nK"
      },
      "outputs": [],
      "source": [
        "def transform_BERT_input(BERT_input: Dict[str, torch.Tensor],\n",
        "                         device: torch.device) -> Dict[str, torch.Tensor]:\n",
        "    '''\n",
        "    Transform BERT input tensors to the specified device.\n",
        "\n",
        "    Parameters:\n",
        "    - BERT_input (dict): Dictionary containing input tensors for BERT\n",
        "    model (input_ids, token_type_ids, attention_mask).\n",
        "    - device (torch.device): Device to which tensors should be\n",
        "    moved.\n",
        "\n",
        "    Returns:\n",
        "    dict: Transformed BERT input tensors on the specified\n",
        "    device.\n",
        "    '''\n",
        "    batch_size = BERT_input[\"input_ids\"].shape[0]\n",
        "    padding_size = BERT_input[\"input_ids\"].shape[-1]\n",
        "    BERT_input[\"input_ids\"] = BERT_input[\"input_ids\"]\\\n",
        "        .view(batch_size, padding_size).to(device)\n",
        "    BERT_input[\"token_type_ids\"] = BERT_input[\"token_type_ids\"].\\\n",
        "        view(batch_size, padding_size).to(device)\n",
        "    BERT_input[\"attention_mask\"] = BERT_input[\"attention_mask\"].\\\n",
        "        view(batch_size, padding_size).to(device)\n",
        "    return BERT_input"
      ]
    },
    {
      "cell_type": "code",
      "execution_count": 79,
      "metadata": {
        "id": "SDQhLAL2xrMA"
      },
      "outputs": [],
      "source": [
        "class Chess_Dataset(Dataset):\n",
        "    '''\n",
        "    Custom dataset class for chess data.\n",
        "\n",
        "    Parameters:\n",
        "    - X (DataFrame): Input data.\n",
        "    - y (array-like): Target labels.\n",
        "    - tokenizer (callable): Tokenizer function to encode input text.\n",
        "    - padding (int): Maximum length of the input sequence after padding.\n",
        "    '''\n",
        "    def __init__(self, X: DataFrame, y: np.ndarray,\n",
        "                 tokenizer: Callable, padding: int):\n",
        "        self.tokenizer = tokenizer\n",
        "        self.X = X.values.reshape(-1)\n",
        "        self.y = y.astype(np.int8)\n",
        "        self.padding = padding\n",
        "\n",
        "    def __len__(self) -> int:\n",
        "        return len(self.X)\n",
        "\n",
        "    def __getitem__(self, idx: int) -> Tuple[torch.Tensor, torch.Tensor]:\n",
        "        '''\n",
        "        Get an item from the dataset.\n",
        "\n",
        "        Parameters:\n",
        "        - idx (int): Index of the item to retrieve.\n",
        "\n",
        "        Returns:\n",
        "        tuple: Tuple containing the encoded input and the label tensor.\n",
        "        '''\n",
        "        input_text = self.X[idx]\n",
        "        label = self.y[idx]\n",
        "        encoded_input = tokenizer(input_text, padding='max_length',\n",
        "                                  max_length=self.padding, return_tensors='pt')\n",
        "        label_tensor = torch.tensor(label)\n",
        "        return encoded_input, label_tensor"
      ]
    },
    {
      "cell_type": "code",
      "execution_count": 80,
      "metadata": {
        "id": "KpxEvv8NI7ok"
      },
      "outputs": [],
      "source": [
        "def train(epoch: int, model: Module,\n",
        "          optimizer: Optimizer, train_loader: DataLoader,\n",
        "          criterion: _Loss, num_examples: int, device: str) -> None:\n",
        "    '''\n",
        "    Train the model for one epoch.\n",
        "\n",
        "    Parameters:\n",
        "    - epoch (int): Current epoch number.\n",
        "    - model (torch.nn.Module): Model to train.\n",
        "    - optimizer (torch.optim.Optimizer): Optimizer for\n",
        "    updating model parameters.\n",
        "    - train_loader (torch.utils.data.DataLoader): DataLoader\n",
        "    for training data.\n",
        "    - criterion (torch.nn.Module): Loss function.\n",
        "    - num_examples (int): Total number of examples in the\n",
        "    dataset.\n",
        "    - device (str): Device to use for training.\n",
        "\n",
        "    Returns:\n",
        "    None\n",
        "    '''\n",
        "    model.train()\n",
        "    total_loss = 0\n",
        "    total_accuracy = 0\n",
        "    for batch in train_loader:\n",
        "        optimizer.zero_grad()\n",
        "        input_ids, labels = batch\n",
        "        input_ids = transform_BERT_input(input_ids, device)\n",
        "        labels.to(device)\n",
        "        input_ids.to(device)\n",
        "        outputs = model(**input_ids)\n",
        "        outputs = outputs.logits.to(device)\n",
        "        loss = criterion(outputs.squeeze(-1), labels.float().to(device))\n",
        "        loss.backward()\n",
        "        optimizer.step()\n",
        "        total_loss += loss.item()\n",
        "        binarized_outputs = nn.Sigmoid()(outputs.detach().squeeze(-1))\n",
        "        binarized_outputs = binarized_outputs.cpu().numpy()\n",
        "        binarized_outputs[binarized_outputs >= 0.5] = 1\n",
        "        binarized_outputs[binarized_outputs < 0.5] = 0\n",
        "        binarized_outputs = binarized_outputs.astype(np.int8)\n",
        "        labels_coped = labels.squeeze(-1).detach().numpy()\n",
        "        total_accuracy += \\\n",
        "            sum(binarized_outputs == labels_coped.astype(np.int8))\n",
        "    print(f'Epoch: {epoch} Training loss: \\\n",
        "          {round(total_loss/len(train_loader), 4)} \\\n",
        "          Training accuracy: {round((total_accuracy/num_examples)*100, 4)}%')"
      ]
    },
    {
      "cell_type": "code",
      "execution_count": 81,
      "metadata": {
        "id": "k12ripsYJKYT"
      },
      "outputs": [],
      "source": [
        "def evaluate(epoch: int, model: Module,\n",
        "             test_loader: DataLoader, criterion: _Loss,\n",
        "             num_examples: int, device: str,\n",
        "             loss_type: str = \"Validation\") -> None:\n",
        "    '''\n",
        "    Evaluate the model on validation or test data.\n",
        "\n",
        "    Parameters:\n",
        "    - epoch (int): Current epoch number.\n",
        "    - model (torch.nn.Module): Model to evaluate.\n",
        "    - test_loader (torch.utils.data.DataLoader): DataLoader\n",
        "    for test data.\n",
        "    - criterion (torch.nn.Module): Loss function.\n",
        "    - num_examples (int): Total number of\n",
        "    examples in the dataset.\n",
        "    - device (str): Device to use for evaluation.\n",
        "    - loss_type (str): Type of loss being evaluated\n",
        "    (default is \"Validation\").\n",
        "\n",
        "    Returns:\n",
        "    None\n",
        "    '''\n",
        "    model.eval()\n",
        "    total_loss = 0\n",
        "    total_accuracy = 0\n",
        "    with torch.no_grad():\n",
        "        for batch in test_loader:\n",
        "            optimizer.zero_grad()\n",
        "            input_ids, labels = batch\n",
        "            transform_BERT_input(input_ids, device)\n",
        "            labels.to(device)\n",
        "            input_ids.to(device)\n",
        "            outputs = model(**input_ids)\n",
        "            outputs = outputs.logits.to(device)\n",
        "            loss = criterion(outputs.squeeze(-1),\n",
        "                             labels.float().to(device))\n",
        "            total_loss += loss.item()\n",
        "            binarized_outputs = nn.Sigmoid()(outputs.detach().squeeze(-1))\n",
        "            binarized_outputs = binarized_outputs.cpu().numpy()\n",
        "            binarized_outputs[binarized_outputs >= 0.5] = 1\n",
        "            binarized_outputs[binarized_outputs < 0.5] = 0\n",
        "            binarized_outputs = binarized_outputs.astype(np.int8)\n",
        "            labels_coped = labels.squeeze(-1).detach().numpy()\n",
        "            total_accuracy += \\\n",
        "                sum(binarized_outputs == labels_coped.astype(np.int8))\n",
        "    print(f'Epoch {epoch}: {loss_type} \\\n",
        "          loss: {round(total_loss/len(test_loader), 4)} {loss_type} \\\n",
        "          accuracy: {round((total_accuracy/num_examples)*100, 4)}%')"
      ]
    },
    {
      "cell_type": "markdown",
      "metadata": {
        "id": "YZdNyYgvRhOg"
      },
      "source": [
        "## Implementation"
      ]
    },
    {
      "cell_type": "markdown",
      "metadata": {
        "id": "sGsw-Xp0RjqY"
      },
      "source": [
        "### Data Reading"
      ]
    },
    {
      "cell_type": "code",
      "execution_count": 82,
      "metadata": {
        "id": "1P7exjqdgZT5"
      },
      "outputs": [],
      "source": [
        "train_data = pd.read_csv(f\"{main_directory}/{train_path}\", compression=\"gzip\")\n",
        "val_data = pd.read_csv(f\"{main_directory}/{val_path}\", compression=\"gzip\")\n",
        "test_data = pd.read_csv(f\"{main_directory}/{test_path}\", compression=\"gzip\")"
      ]
    },
    {
      "cell_type": "code",
      "execution_count": 83,
      "metadata": {
        "id": "8ayCu3AT65c7"
      },
      "outputs": [],
      "source": [
        "train_data = train_data.head(10000)\n",
        "val_data = val_data.head(500)\n",
        "test_data = test_data.head(500)"
      ]
    },
    {
      "cell_type": "code",
      "execution_count": 84,
      "metadata": {
        "colab": {
          "base_uri": "https://localhost:8080/",
          "height": 206
        },
        "id": "O7zOcBEKgvzC",
        "outputId": "9d03b266-f10c-4e3c-c5e8-5b825f37ef09"
      },
      "outputs": [
        {
          "data": {
            "application/vnd.google.colaboratory.intrinsic+json": {
              "summary": "{\n  \"name\": \"X_train\",\n  \"rows\": 10000,\n  \"fields\": [\n    {\n      \"column\": \"move\",\n      \"properties\": {\n        \"dtype\": \"category\",\n        \"num_unique_values\": 3142,\n        \"samples\": [\n          \"d7c4\",\n          \"g5e1\",\n          \"a7f2\"\n        ],\n        \"semantic_type\": \"\",\n        \"description\": \"\"\n      }\n    },\n    {\n      \"column\": \"prev_board\",\n      \"properties\": {\n        \"dtype\": \"string\",\n        \"num_unique_values\": 9379,\n        \"samples\": [\n          \"r4rk1/1p2bppp/p1q1pn2/3p4/8/P1N1PQ1P/1PPB1PP1/R3R1K1 b - - 0 16\",\n          \"rnbq1rk1/pppp1ppp/4p3/2b5/6n1/1P2P1P1/PBPP1PBP/RN1QK1NR w KQ - 1 6\",\n          \"2rr2k1/1p1bq2p/4p1p1/p1Pnnp2/1P1N4/P1B1PBP1/5P1P/2RQ1RK1 b - - 1 19\"\n        ],\n        \"semantic_type\": \"\",\n        \"description\": \"\"\n      }\n    }\n  ]\n}",
              "type": "dataframe",
              "variable_name": "X_train"
            },
            "text/html": [
              "\n",
              "  <div id=\"df-bcde1ad2-61e0-4364-9862-cd189bf61162\" class=\"colab-df-container\">\n",
              "    <div>\n",
              "<style scoped>\n",
              "    .dataframe tbody tr th:only-of-type {\n",
              "        vertical-align: middle;\n",
              "    }\n",
              "\n",
              "    .dataframe tbody tr th {\n",
              "        vertical-align: top;\n",
              "    }\n",
              "\n",
              "    .dataframe thead th {\n",
              "        text-align: right;\n",
              "    }\n",
              "</style>\n",
              "<table border=\"1\" class=\"dataframe\">\n",
              "  <thead>\n",
              "    <tr style=\"text-align: right;\">\n",
              "      <th></th>\n",
              "      <th>move</th>\n",
              "      <th>prev_board</th>\n",
              "    </tr>\n",
              "  </thead>\n",
              "  <tbody>\n",
              "    <tr>\n",
              "      <th>0</th>\n",
              "      <td>g7d8</td>\n",
              "      <td>4Q2k/p4Qrp/1p6/8/3R3p/8/PPP3PP/5RK1 b - - 0 37</td>\n",
              "    </tr>\n",
              "    <tr>\n",
              "      <th>1</th>\n",
              "      <td>f3f2</td>\n",
              "      <td>8/6p1/5p1p/1p1p1P2/1P1K1kP1/P4P1P/8/8 b - - 0 38</td>\n",
              "    </tr>\n",
              "    <tr>\n",
              "      <th>2</th>\n",
              "      <td>a6g1</td>\n",
              "      <td>4rb2/5kp1/pp1p1pp1/2pP4/P1P3R1/1PB3PP/5PK1/8 w...</td>\n",
              "    </tr>\n",
              "    <tr>\n",
              "      <th>3</th>\n",
              "      <td>c8b8</td>\n",
              "      <td>2r2k2/p4p2/2B2p2/P2Pp3/4PnR1/4KP1p/5P1P/8 b - ...</td>\n",
              "    </tr>\n",
              "    <tr>\n",
              "      <th>4</th>\n",
              "      <td>e6f5</td>\n",
              "      <td>6k1/6pp/p3p3/3bKR2/1p6/1P2R3/P7/6r1 b - - 0 33</td>\n",
              "    </tr>\n",
              "  </tbody>\n",
              "</table>\n",
              "</div>\n",
              "    <div class=\"colab-df-buttons\">\n",
              "\n",
              "  <div class=\"colab-df-container\">\n",
              "    <button class=\"colab-df-convert\" onclick=\"convertToInteractive('df-bcde1ad2-61e0-4364-9862-cd189bf61162')\"\n",
              "            title=\"Convert this dataframe to an interactive table.\"\n",
              "            style=\"display:none;\">\n",
              "\n",
              "  <svg xmlns=\"http://www.w3.org/2000/svg\" height=\"24px\" viewBox=\"0 -960 960 960\">\n",
              "    <path d=\"M120-120v-720h720v720H120Zm60-500h600v-160H180v160Zm220 220h160v-160H400v160Zm0 220h160v-160H400v160ZM180-400h160v-160H180v160Zm440 0h160v-160H620v160ZM180-180h160v-160H180v160Zm440 0h160v-160H620v160Z\"/>\n",
              "  </svg>\n",
              "    </button>\n",
              "\n",
              "  <style>\n",
              "    .colab-df-container {\n",
              "      display:flex;\n",
              "      gap: 12px;\n",
              "    }\n",
              "\n",
              "    .colab-df-convert {\n",
              "      background-color: #E8F0FE;\n",
              "      border: none;\n",
              "      border-radius: 50%;\n",
              "      cursor: pointer;\n",
              "      display: none;\n",
              "      fill: #1967D2;\n",
              "      height: 32px;\n",
              "      padding: 0 0 0 0;\n",
              "      width: 32px;\n",
              "    }\n",
              "\n",
              "    .colab-df-convert:hover {\n",
              "      background-color: #E2EBFA;\n",
              "      box-shadow: 0px 1px 2px rgba(60, 64, 67, 0.3), 0px 1px 3px 1px rgba(60, 64, 67, 0.15);\n",
              "      fill: #174EA6;\n",
              "    }\n",
              "\n",
              "    .colab-df-buttons div {\n",
              "      margin-bottom: 4px;\n",
              "    }\n",
              "\n",
              "    [theme=dark] .colab-df-convert {\n",
              "      background-color: #3B4455;\n",
              "      fill: #D2E3FC;\n",
              "    }\n",
              "\n",
              "    [theme=dark] .colab-df-convert:hover {\n",
              "      background-color: #434B5C;\n",
              "      box-shadow: 0px 1px 3px 1px rgba(0, 0, 0, 0.15);\n",
              "      filter: drop-shadow(0px 1px 2px rgba(0, 0, 0, 0.3));\n",
              "      fill: #FFFFFF;\n",
              "    }\n",
              "  </style>\n",
              "\n",
              "    <script>\n",
              "      const buttonEl =\n",
              "        document.querySelector('#df-bcde1ad2-61e0-4364-9862-cd189bf61162 button.colab-df-convert');\n",
              "      buttonEl.style.display =\n",
              "        google.colab.kernel.accessAllowed ? 'block' : 'none';\n",
              "\n",
              "      async function convertToInteractive(key) {\n",
              "        const element = document.querySelector('#df-bcde1ad2-61e0-4364-9862-cd189bf61162');\n",
              "        const dataTable =\n",
              "          await google.colab.kernel.invokeFunction('convertToInteractive',\n",
              "                                                    [key], {});\n",
              "        if (!dataTable) return;\n",
              "\n",
              "        const docLinkHtml = 'Like what you see? Visit the ' +\n",
              "          '<a target=\"_blank\" href=https://colab.research.google.com/notebooks/data_table.ipynb>data table notebook</a>'\n",
              "          + ' to learn more about interactive tables.';\n",
              "        element.innerHTML = '';\n",
              "        dataTable['output_type'] = 'display_data';\n",
              "        await google.colab.output.renderOutput(dataTable, element);\n",
              "        const docLink = document.createElement('div');\n",
              "        docLink.innerHTML = docLinkHtml;\n",
              "        element.appendChild(docLink);\n",
              "      }\n",
              "    </script>\n",
              "  </div>\n",
              "\n",
              "\n",
              "<div id=\"df-2e44f5d1-a194-42bf-af06-f1125a036cb5\">\n",
              "  <button class=\"colab-df-quickchart\" onclick=\"quickchart('df-2e44f5d1-a194-42bf-af06-f1125a036cb5')\"\n",
              "            title=\"Suggest charts\"\n",
              "            style=\"display:none;\">\n",
              "\n",
              "<svg xmlns=\"http://www.w3.org/2000/svg\" height=\"24px\"viewBox=\"0 0 24 24\"\n",
              "     width=\"24px\">\n",
              "    <g>\n",
              "        <path d=\"M19 3H5c-1.1 0-2 .9-2 2v14c0 1.1.9 2 2 2h14c1.1 0 2-.9 2-2V5c0-1.1-.9-2-2-2zM9 17H7v-7h2v7zm4 0h-2V7h2v10zm4 0h-2v-4h2v4z\"/>\n",
              "    </g>\n",
              "</svg>\n",
              "  </button>\n",
              "\n",
              "<style>\n",
              "  .colab-df-quickchart {\n",
              "      --bg-color: #E8F0FE;\n",
              "      --fill-color: #1967D2;\n",
              "      --hover-bg-color: #E2EBFA;\n",
              "      --hover-fill-color: #174EA6;\n",
              "      --disabled-fill-color: #AAA;\n",
              "      --disabled-bg-color: #DDD;\n",
              "  }\n",
              "\n",
              "  [theme=dark] .colab-df-quickchart {\n",
              "      --bg-color: #3B4455;\n",
              "      --fill-color: #D2E3FC;\n",
              "      --hover-bg-color: #434B5C;\n",
              "      --hover-fill-color: #FFFFFF;\n",
              "      --disabled-bg-color: #3B4455;\n",
              "      --disabled-fill-color: #666;\n",
              "  }\n",
              "\n",
              "  .colab-df-quickchart {\n",
              "    background-color: var(--bg-color);\n",
              "    border: none;\n",
              "    border-radius: 50%;\n",
              "    cursor: pointer;\n",
              "    display: none;\n",
              "    fill: var(--fill-color);\n",
              "    height: 32px;\n",
              "    padding: 0;\n",
              "    width: 32px;\n",
              "  }\n",
              "\n",
              "  .colab-df-quickchart:hover {\n",
              "    background-color: var(--hover-bg-color);\n",
              "    box-shadow: 0 1px 2px rgba(60, 64, 67, 0.3), 0 1px 3px 1px rgba(60, 64, 67, 0.15);\n",
              "    fill: var(--button-hover-fill-color);\n",
              "  }\n",
              "\n",
              "  .colab-df-quickchart-complete:disabled,\n",
              "  .colab-df-quickchart-complete:disabled:hover {\n",
              "    background-color: var(--disabled-bg-color);\n",
              "    fill: var(--disabled-fill-color);\n",
              "    box-shadow: none;\n",
              "  }\n",
              "\n",
              "  .colab-df-spinner {\n",
              "    border: 2px solid var(--fill-color);\n",
              "    border-color: transparent;\n",
              "    border-bottom-color: var(--fill-color);\n",
              "    animation:\n",
              "      spin 1s steps(1) infinite;\n",
              "  }\n",
              "\n",
              "  @keyframes spin {\n",
              "    0% {\n",
              "      border-color: transparent;\n",
              "      border-bottom-color: var(--fill-color);\n",
              "      border-left-color: var(--fill-color);\n",
              "    }\n",
              "    20% {\n",
              "      border-color: transparent;\n",
              "      border-left-color: var(--fill-color);\n",
              "      border-top-color: var(--fill-color);\n",
              "    }\n",
              "    30% {\n",
              "      border-color: transparent;\n",
              "      border-left-color: var(--fill-color);\n",
              "      border-top-color: var(--fill-color);\n",
              "      border-right-color: var(--fill-color);\n",
              "    }\n",
              "    40% {\n",
              "      border-color: transparent;\n",
              "      border-right-color: var(--fill-color);\n",
              "      border-top-color: var(--fill-color);\n",
              "    }\n",
              "    60% {\n",
              "      border-color: transparent;\n",
              "      border-right-color: var(--fill-color);\n",
              "    }\n",
              "    80% {\n",
              "      border-color: transparent;\n",
              "      border-right-color: var(--fill-color);\n",
              "      border-bottom-color: var(--fill-color);\n",
              "    }\n",
              "    90% {\n",
              "      border-color: transparent;\n",
              "      border-bottom-color: var(--fill-color);\n",
              "    }\n",
              "  }\n",
              "</style>\n",
              "\n",
              "  <script>\n",
              "    async function quickchart(key) {\n",
              "      const quickchartButtonEl =\n",
              "        document.querySelector('#' + key + ' button');\n",
              "      quickchartButtonEl.disabled = true;  // To prevent multiple clicks.\n",
              "      quickchartButtonEl.classList.add('colab-df-spinner');\n",
              "      try {\n",
              "        const charts = await google.colab.kernel.invokeFunction(\n",
              "            'suggestCharts', [key], {});\n",
              "      } catch (error) {\n",
              "        console.error('Error during call to suggestCharts:', error);\n",
              "      }\n",
              "      quickchartButtonEl.classList.remove('colab-df-spinner');\n",
              "      quickchartButtonEl.classList.add('colab-df-quickchart-complete');\n",
              "    }\n",
              "    (() => {\n",
              "      let quickchartButtonEl =\n",
              "        document.querySelector('#df-2e44f5d1-a194-42bf-af06-f1125a036cb5 button');\n",
              "      quickchartButtonEl.style.display =\n",
              "        google.colab.kernel.accessAllowed ? 'block' : 'none';\n",
              "    })();\n",
              "  </script>\n",
              "</div>\n",
              "    </div>\n",
              "  </div>\n"
            ],
            "text/plain": [
              "   move                                         prev_board\n",
              "0  g7d8     4Q2k/p4Qrp/1p6/8/3R3p/8/PPP3PP/5RK1 b - - 0 37\n",
              "1  f3f2   8/6p1/5p1p/1p1p1P2/1P1K1kP1/P4P1P/8/8 b - - 0 38\n",
              "2  a6g1  4rb2/5kp1/pp1p1pp1/2pP4/P1P3R1/1PB3PP/5PK1/8 w...\n",
              "3  c8b8  2r2k2/p4p2/2B2p2/P2Pp3/4PnR1/4KP1p/5P1P/8 b - ...\n",
              "4  e6f5     6k1/6pp/p3p3/3bKR2/1p6/1P2R3/P7/6r1 b - - 0 33"
            ]
          },
          "execution_count": 84,
          "metadata": {},
          "output_type": "execute_result"
        }
      ],
      "source": [
        "X_train = train_data.\\\n",
        "    drop(columns=list(set(train_data.columns) - set([\"prev_board\", \"move\"])))\n",
        "y_train = train_data[\"legal\"].values.astype(bool)\n",
        "X_val = val_data.\\\n",
        "    drop(columns=list(set(train_data.columns) - set([\"prev_board\", \"move\"])))\n",
        "y_val = val_data[\"legal\"].values.astype(bool)\n",
        "X_test = test_data.\\\n",
        "    drop(columns=list(set(train_data.columns) - set([\"prev_board\", \"move\"])))\n",
        "y_test = test_data[\"legal\"].\\\n",
        "    values.astype(bool)\n",
        "del train_data\n",
        "del val_data\n",
        "del test_data\n",
        "X_train.head()"
      ]
    },
    {
      "cell_type": "code",
      "execution_count": 85,
      "metadata": {
        "colab": {
          "base_uri": "https://localhost:8080/",
          "height": 206
        },
        "id": "F0Ksq3UesXHT",
        "outputId": "68e536a0-038c-44fb-b409-73555f1606eb"
      },
      "outputs": [
        {
          "data": {
            "application/vnd.google.colaboratory.intrinsic+json": {
              "summary": "{\n  \"name\": \"X_train\",\n  \"rows\": 10000,\n  \"fields\": [\n    {\n      \"column\": \"model_input\",\n      \"properties\": {\n        \"dtype\": \"string\",\n        \"num_unique_values\": 9814,\n        \"samples\": [\n          \"2 k r 3 r / p p p q 1 p 2 / 6 p 1 / 7 p / 3 P 1 P 2 / P 1 P R 1 B P P / 2 P 2 K 2 / 4 R 3 b - - 1 2 2 [SEP] h 8 e 8 \",\n          \"r 3 r 1 k 1 / p 3 p p B 1 / b q p 3 p p / 8 / Q 7 / 1 P 2 R 3 / P 1 P 2 P P P / 3 R 2 K 1 b - - 0 2 2 [SEP] g 8 g 7 \",\n          \"6 k 1 / p N 4 p 1 / 8 / 4 p 1 p 1 / 4 P 3 / 1 P 5 P / P 2 r 1 P P 1 / R 4 R K 1 b - - 0 2 5 [SEP] d 2 d 4 \"\n        ],\n        \"semantic_type\": \"\",\n        \"description\": \"\"\n      }\n    }\n  ]\n}",
              "type": "dataframe",
              "variable_name": "X_train"
            },
            "text/html": [
              "\n",
              "  <div id=\"df-baecb066-d9b8-4a78-9ae5-81d2f2394b14\" class=\"colab-df-container\">\n",
              "    <div>\n",
              "<style scoped>\n",
              "    .dataframe tbody tr th:only-of-type {\n",
              "        vertical-align: middle;\n",
              "    }\n",
              "\n",
              "    .dataframe tbody tr th {\n",
              "        vertical-align: top;\n",
              "    }\n",
              "\n",
              "    .dataframe thead th {\n",
              "        text-align: right;\n",
              "    }\n",
              "</style>\n",
              "<table border=\"1\" class=\"dataframe\">\n",
              "  <thead>\n",
              "    <tr style=\"text-align: right;\">\n",
              "      <th></th>\n",
              "      <th>model_input</th>\n",
              "    </tr>\n",
              "  </thead>\n",
              "  <tbody>\n",
              "    <tr>\n",
              "      <th>0</th>\n",
              "      <td>4 Q 2 k / p 4 Q r p / 1 p 6 / 8 / 3 R 3 p / 8 ...</td>\n",
              "    </tr>\n",
              "    <tr>\n",
              "      <th>1</th>\n",
              "      <td>8 / 6 p 1 / 5 p 1 p / 1 p 1 p 1 P 2 / 1 P 1 K ...</td>\n",
              "    </tr>\n",
              "    <tr>\n",
              "      <th>2</th>\n",
              "      <td>4 r b 2 / 5 k p 1 / p p 1 p 1 p p 1 / 2 p P 4 ...</td>\n",
              "    </tr>\n",
              "    <tr>\n",
              "      <th>3</th>\n",
              "      <td>2 r 2 k 2 / p 4 p 2 / 2 B 2 p 2 / P 2 P p 3 / ...</td>\n",
              "    </tr>\n",
              "    <tr>\n",
              "      <th>4</th>\n",
              "      <td>6 k 1 / 6 p p / p 3 p 3 / 3 b K R 2 / 1 p 6 / ...</td>\n",
              "    </tr>\n",
              "  </tbody>\n",
              "</table>\n",
              "</div>\n",
              "    <div class=\"colab-df-buttons\">\n",
              "\n",
              "  <div class=\"colab-df-container\">\n",
              "    <button class=\"colab-df-convert\" onclick=\"convertToInteractive('df-baecb066-d9b8-4a78-9ae5-81d2f2394b14')\"\n",
              "            title=\"Convert this dataframe to an interactive table.\"\n",
              "            style=\"display:none;\">\n",
              "\n",
              "  <svg xmlns=\"http://www.w3.org/2000/svg\" height=\"24px\" viewBox=\"0 -960 960 960\">\n",
              "    <path d=\"M120-120v-720h720v720H120Zm60-500h600v-160H180v160Zm220 220h160v-160H400v160Zm0 220h160v-160H400v160ZM180-400h160v-160H180v160Zm440 0h160v-160H620v160ZM180-180h160v-160H180v160Zm440 0h160v-160H620v160Z\"/>\n",
              "  </svg>\n",
              "    </button>\n",
              "\n",
              "  <style>\n",
              "    .colab-df-container {\n",
              "      display:flex;\n",
              "      gap: 12px;\n",
              "    }\n",
              "\n",
              "    .colab-df-convert {\n",
              "      background-color: #E8F0FE;\n",
              "      border: none;\n",
              "      border-radius: 50%;\n",
              "      cursor: pointer;\n",
              "      display: none;\n",
              "      fill: #1967D2;\n",
              "      height: 32px;\n",
              "      padding: 0 0 0 0;\n",
              "      width: 32px;\n",
              "    }\n",
              "\n",
              "    .colab-df-convert:hover {\n",
              "      background-color: #E2EBFA;\n",
              "      box-shadow: 0px 1px 2px rgba(60, 64, 67, 0.3), 0px 1px 3px 1px rgba(60, 64, 67, 0.15);\n",
              "      fill: #174EA6;\n",
              "    }\n",
              "\n",
              "    .colab-df-buttons div {\n",
              "      margin-bottom: 4px;\n",
              "    }\n",
              "\n",
              "    [theme=dark] .colab-df-convert {\n",
              "      background-color: #3B4455;\n",
              "      fill: #D2E3FC;\n",
              "    }\n",
              "\n",
              "    [theme=dark] .colab-df-convert:hover {\n",
              "      background-color: #434B5C;\n",
              "      box-shadow: 0px 1px 3px 1px rgba(0, 0, 0, 0.15);\n",
              "      filter: drop-shadow(0px 1px 2px rgba(0, 0, 0, 0.3));\n",
              "      fill: #FFFFFF;\n",
              "    }\n",
              "  </style>\n",
              "\n",
              "    <script>\n",
              "      const buttonEl =\n",
              "        document.querySelector('#df-baecb066-d9b8-4a78-9ae5-81d2f2394b14 button.colab-df-convert');\n",
              "      buttonEl.style.display =\n",
              "        google.colab.kernel.accessAllowed ? 'block' : 'none';\n",
              "\n",
              "      async function convertToInteractive(key) {\n",
              "        const element = document.querySelector('#df-baecb066-d9b8-4a78-9ae5-81d2f2394b14');\n",
              "        const dataTable =\n",
              "          await google.colab.kernel.invokeFunction('convertToInteractive',\n",
              "                                                    [key], {});\n",
              "        if (!dataTable) return;\n",
              "\n",
              "        const docLinkHtml = 'Like what you see? Visit the ' +\n",
              "          '<a target=\"_blank\" href=https://colab.research.google.com/notebooks/data_table.ipynb>data table notebook</a>'\n",
              "          + ' to learn more about interactive tables.';\n",
              "        element.innerHTML = '';\n",
              "        dataTable['output_type'] = 'display_data';\n",
              "        await google.colab.output.renderOutput(dataTable, element);\n",
              "        const docLink = document.createElement('div');\n",
              "        docLink.innerHTML = docLinkHtml;\n",
              "        element.appendChild(docLink);\n",
              "      }\n",
              "    </script>\n",
              "  </div>\n",
              "\n",
              "\n",
              "<div id=\"df-c79487bd-14c1-40bb-b6bd-c441c2c8cbb3\">\n",
              "  <button class=\"colab-df-quickchart\" onclick=\"quickchart('df-c79487bd-14c1-40bb-b6bd-c441c2c8cbb3')\"\n",
              "            title=\"Suggest charts\"\n",
              "            style=\"display:none;\">\n",
              "\n",
              "<svg xmlns=\"http://www.w3.org/2000/svg\" height=\"24px\"viewBox=\"0 0 24 24\"\n",
              "     width=\"24px\">\n",
              "    <g>\n",
              "        <path d=\"M19 3H5c-1.1 0-2 .9-2 2v14c0 1.1.9 2 2 2h14c1.1 0 2-.9 2-2V5c0-1.1-.9-2-2-2zM9 17H7v-7h2v7zm4 0h-2V7h2v10zm4 0h-2v-4h2v4z\"/>\n",
              "    </g>\n",
              "</svg>\n",
              "  </button>\n",
              "\n",
              "<style>\n",
              "  .colab-df-quickchart {\n",
              "      --bg-color: #E8F0FE;\n",
              "      --fill-color: #1967D2;\n",
              "      --hover-bg-color: #E2EBFA;\n",
              "      --hover-fill-color: #174EA6;\n",
              "      --disabled-fill-color: #AAA;\n",
              "      --disabled-bg-color: #DDD;\n",
              "  }\n",
              "\n",
              "  [theme=dark] .colab-df-quickchart {\n",
              "      --bg-color: #3B4455;\n",
              "      --fill-color: #D2E3FC;\n",
              "      --hover-bg-color: #434B5C;\n",
              "      --hover-fill-color: #FFFFFF;\n",
              "      --disabled-bg-color: #3B4455;\n",
              "      --disabled-fill-color: #666;\n",
              "  }\n",
              "\n",
              "  .colab-df-quickchart {\n",
              "    background-color: var(--bg-color);\n",
              "    border: none;\n",
              "    border-radius: 50%;\n",
              "    cursor: pointer;\n",
              "    display: none;\n",
              "    fill: var(--fill-color);\n",
              "    height: 32px;\n",
              "    padding: 0;\n",
              "    width: 32px;\n",
              "  }\n",
              "\n",
              "  .colab-df-quickchart:hover {\n",
              "    background-color: var(--hover-bg-color);\n",
              "    box-shadow: 0 1px 2px rgba(60, 64, 67, 0.3), 0 1px 3px 1px rgba(60, 64, 67, 0.15);\n",
              "    fill: var(--button-hover-fill-color);\n",
              "  }\n",
              "\n",
              "  .colab-df-quickchart-complete:disabled,\n",
              "  .colab-df-quickchart-complete:disabled:hover {\n",
              "    background-color: var(--disabled-bg-color);\n",
              "    fill: var(--disabled-fill-color);\n",
              "    box-shadow: none;\n",
              "  }\n",
              "\n",
              "  .colab-df-spinner {\n",
              "    border: 2px solid var(--fill-color);\n",
              "    border-color: transparent;\n",
              "    border-bottom-color: var(--fill-color);\n",
              "    animation:\n",
              "      spin 1s steps(1) infinite;\n",
              "  }\n",
              "\n",
              "  @keyframes spin {\n",
              "    0% {\n",
              "      border-color: transparent;\n",
              "      border-bottom-color: var(--fill-color);\n",
              "      border-left-color: var(--fill-color);\n",
              "    }\n",
              "    20% {\n",
              "      border-color: transparent;\n",
              "      border-left-color: var(--fill-color);\n",
              "      border-top-color: var(--fill-color);\n",
              "    }\n",
              "    30% {\n",
              "      border-color: transparent;\n",
              "      border-left-color: var(--fill-color);\n",
              "      border-top-color: var(--fill-color);\n",
              "      border-right-color: var(--fill-color);\n",
              "    }\n",
              "    40% {\n",
              "      border-color: transparent;\n",
              "      border-right-color: var(--fill-color);\n",
              "      border-top-color: var(--fill-color);\n",
              "    }\n",
              "    60% {\n",
              "      border-color: transparent;\n",
              "      border-right-color: var(--fill-color);\n",
              "    }\n",
              "    80% {\n",
              "      border-color: transparent;\n",
              "      border-right-color: var(--fill-color);\n",
              "      border-bottom-color: var(--fill-color);\n",
              "    }\n",
              "    90% {\n",
              "      border-color: transparent;\n",
              "      border-bottom-color: var(--fill-color);\n",
              "    }\n",
              "  }\n",
              "</style>\n",
              "\n",
              "  <script>\n",
              "    async function quickchart(key) {\n",
              "      const quickchartButtonEl =\n",
              "        document.querySelector('#' + key + ' button');\n",
              "      quickchartButtonEl.disabled = true;  // To prevent multiple clicks.\n",
              "      quickchartButtonEl.classList.add('colab-df-spinner');\n",
              "      try {\n",
              "        const charts = await google.colab.kernel.invokeFunction(\n",
              "            'suggestCharts', [key], {});\n",
              "      } catch (error) {\n",
              "        console.error('Error during call to suggestCharts:', error);\n",
              "      }\n",
              "      quickchartButtonEl.classList.remove('colab-df-spinner');\n",
              "      quickchartButtonEl.classList.add('colab-df-quickchart-complete');\n",
              "    }\n",
              "    (() => {\n",
              "      let quickchartButtonEl =\n",
              "        document.querySelector('#df-c79487bd-14c1-40bb-b6bd-c441c2c8cbb3 button');\n",
              "      quickchartButtonEl.style.display =\n",
              "        google.colab.kernel.accessAllowed ? 'block' : 'none';\n",
              "    })();\n",
              "  </script>\n",
              "</div>\n",
              "    </div>\n",
              "  </div>\n"
            ],
            "text/plain": [
              "                                         model_input\n",
              "0  4 Q 2 k / p 4 Q r p / 1 p 6 / 8 / 3 R 3 p / 8 ...\n",
              "1  8 / 6 p 1 / 5 p 1 p / 1 p 1 p 1 P 2 / 1 P 1 K ...\n",
              "2  4 r b 2 / 5 k p 1 / p p 1 p 1 p p 1 / 2 p P 4 ...\n",
              "3  2 r 2 k 2 / p 4 p 2 / 2 B 2 p 2 / P 2 P p 3 / ...\n",
              "4  6 k 1 / 6 p p / p 3 p 3 / 3 b K R 2 / 1 p 6 / ..."
            ]
          },
          "execution_count": 85,
          "metadata": {},
          "output_type": "execute_result"
        }
      ],
      "source": [
        "X_train = preprocess(X_train)\n",
        "X_val = preprocess(X_val)\n",
        "X_test = preprocess(X_test)\n",
        "X_train = X_train.drop(columns=[\"move\", \"prev_board\"])\n",
        "X_val = X_val.drop(columns=[\"move\", \"prev_board\"])\n",
        "X_test = X_test.drop(columns=[\"move\", \"prev_board\"])\n",
        "X_train.head()"
      ]
    },
    {
      "cell_type": "markdown",
      "metadata": {
        "id": "jfH_RJw5JBSF"
      },
      "source": [
        "Making Sure the data split is mostly even"
      ]
    },
    {
      "cell_type": "code",
      "execution_count": 86,
      "metadata": {
        "colab": {
          "base_uri": "https://localhost:8080/"
        },
        "id": "slricW-RJI5y",
        "outputId": "cca34303-610f-43f7-a8f1-0b5bc752958b"
      },
      "outputs": [
        {
          "name": "stdout",
          "output_type": "stream",
          "text": [
            "False: 4830 occurrences\n",
            "True: 5170 occurrences\n"
          ]
        }
      ],
      "source": [
        "unique_values, counts = np.unique(y_train, return_counts=True)\n",
        "for value, count in zip(unique_values, counts):\n",
        "    print(f\"{value}: {count} occurrences\")"
      ]
    },
    {
      "cell_type": "code",
      "execution_count": 87,
      "metadata": {
        "colab": {
          "base_uri": "https://localhost:8080/"
        },
        "id": "srof8Q_UJTbD",
        "outputId": "14e9809a-6986-47c0-ed26-5ae86dc26b16"
      },
      "outputs": [
        {
          "name": "stdout",
          "output_type": "stream",
          "text": [
            "False: 225 occurrences\n",
            "True: 275 occurrences\n"
          ]
        }
      ],
      "source": [
        "unique_values, counts = np.unique(y_val, return_counts=True)\n",
        "for value, count in zip(unique_values, counts):\n",
        "    print(f\"{value}: {count} occurrences\")"
      ]
    },
    {
      "cell_type": "code",
      "execution_count": 88,
      "metadata": {
        "colab": {
          "base_uri": "https://localhost:8080/"
        },
        "id": "OIyEOaFHJT7K",
        "outputId": "ffc59d22-fa55-4de6-fb57-a3f98cb22192"
      },
      "outputs": [
        {
          "name": "stdout",
          "output_type": "stream",
          "text": [
            "False: 236 occurrences\n",
            "True: 264 occurrences\n"
          ]
        }
      ],
      "source": [
        "unique_values, counts = np.unique(y_test, return_counts=True)\n",
        "for value, count in zip(unique_values, counts):\n",
        "    print(f\"{value}: {count} occurrences\")"
      ]
    },
    {
      "cell_type": "markdown",
      "metadata": {
        "id": "hAGswHdGRnSL"
      },
      "source": [
        "### Model Creation"
      ]
    },
    {
      "cell_type": "code",
      "execution_count": 89,
      "metadata": {
        "id": "OqeZ0JZ50_Sp"
      },
      "outputs": [],
      "source": [
        "tokenizer = BertTokenizer.from_pretrained('bert-base-cased')\n",
        "train_dataset = Chess_Dataset(X_train, y_train, tokenizer, PADDING)\n",
        "val_dataset = Chess_Dataset(X_val, y_val, tokenizer, PADDING)\n",
        "test_dataset = Chess_Dataset(X_test, y_test, tokenizer, PADDING)"
      ]
    },
    {
      "cell_type": "code",
      "execution_count": 90,
      "metadata": {
        "id": "xpUTBJUl3cu9"
      },
      "outputs": [],
      "source": [
        "train_loader = DataLoader(train_dataset, batch_size=BATCH_SIZE, shuffle=False)\n",
        "val_loader = DataLoader(val_dataset, batch_size=BATCH_SIZE, shuffle=False)\n",
        "test_loader = DataLoader(test_dataset, batch_size=BATCH_SIZE, shuffle=False)"
      ]
    },
    {
      "cell_type": "code",
      "execution_count": 95,
      "metadata": {
        "colab": {
          "base_uri": "https://localhost:8080/"
        },
        "id": "kqUitV7T5_AQ",
        "outputId": "b424b7ab-3305-41cf-c78e-05010208f612"
      },
      "outputs": [
        {
          "name": "stdout",
          "output_type": "stream",
          "text": [
            "Available Device: cuda\n"
          ]
        },
        {
          "name": "stderr",
          "output_type": "stream",
          "text": [
            "Some weights of BertForSequenceClassification were not initialized from the model checkpoint at bert-base-cased and are newly initialized: ['classifier.bias', 'classifier.weight']\n",
            "You should probably TRAIN this model on a down-stream task to be able to use it for predictions and inference.\n"
          ]
        }
      ],
      "source": [
        "device = torch.device(\"cuda\" if torch.cuda.is_available() else \"cpu\")\n",
        "print(f\"Available Device: {device}\")\n",
        "model = BertForSequenceClassification.from_pretrained(\n",
        "    \"bert-base-cased\", num_labels=1,\n",
        "    output_attentions=False,\n",
        "    output_hidden_states=False)\n",
        "model.to(device)\n",
        "criterion = nn.BCEWithLogitsLoss()\n",
        "optimizer = AdamW(model.parameters(), lr=1e-5)"
      ]
    },
    {
      "cell_type": "markdown",
      "metadata": {
        "id": "ee9txZnKRqlL"
      },
      "source": [
        "### Training"
      ]
    },
    {
      "cell_type": "code",
      "execution_count": 96,
      "metadata": {
        "id": "RXvHWIOFGRZ1"
      },
      "outputs": [],
      "source": [
        "num_training_examples = len(X_train)\n",
        "num_val_examples = len(X_val)\n",
        "num_test_examples = len(X_test)"
      ]
    },
    {
      "cell_type": "code",
      "execution_count": 97,
      "metadata": {
        "colab": {
          "base_uri": "https://localhost:8080/"
        },
        "id": "TOrQzdY4QwoO",
        "outputId": "d61510d3-4508-4dfa-dfcf-108e83295a7b"
      },
      "outputs": [
        {
          "name": "stdout",
          "output_type": "stream",
          "text": [
            "Epoch: 0 Training loss: 0.6264 Training accuracy: 63.36%\n",
            "Epoch 0: Validation loss: 0.465 Validation accuracy: 78.8%\n",
            "Epoch: 1 Training loss: 0.4657 Training accuracy: 78.84%\n",
            "Epoch 1: Validation loss: 0.3792 Validation accuracy: 85.6%\n",
            "Epoch: 2 Training loss: 0.3874 Training accuracy: 83.94%\n",
            "Epoch 2: Validation loss: 0.3373 Validation accuracy: 87.6%\n",
            "Epoch: 3 Training loss: 0.3501 Training accuracy: 85.73%\n",
            "Epoch 3: Validation loss: 0.3285 Validation accuracy: 86.8%\n",
            "Epoch: 4 Training loss: 0.3203 Training accuracy: 86.67%\n",
            "Epoch 4: Validation loss: 0.328 Validation accuracy: 87.2%\n",
            "Epoch: 5 Training loss: 0.2965 Training accuracy: 87.89%\n",
            "Epoch 5: Validation loss: 0.3181 Validation accuracy: 88.2%\n",
            "Epoch: 6 Training loss: 0.2751 Training accuracy: 88.68%\n",
            "Epoch 6: Validation loss: 0.3028 Validation accuracy: 88.8%\n",
            "Epoch: 7 Training loss: 0.2564 Training accuracy: 89.04%\n",
            "Epoch 7: Validation loss: 0.3215 Validation accuracy: 90.0%\n",
            "Epoch: 8 Training loss: 0.2368 Training accuracy: 90.04%\n",
            "Epoch 8: Validation loss: 0.2898 Validation accuracy: 89.2%\n",
            "Epoch: 9 Training loss: 0.2194 Training accuracy: 90.93%\n",
            "Epoch 9: Validation loss: 0.3053 Validation accuracy: 89.6%\n",
            "Epoch: 10 Training loss: 0.2057 Training accuracy: 91.09%\n",
            "Epoch 10: Validation loss: 0.3043 Validation accuracy: 89.4%\n",
            "Epoch: 11 Training loss: 0.1907 Training accuracy: 91.82%\n",
            "Epoch 11: Validation loss: 0.3066 Validation accuracy: 89.0%\n",
            "Epoch: 12 Training loss: 0.1682 Training accuracy: 93.03%\n",
            "Epoch 12: Validation loss: 0.3348 Validation accuracy: 89.6%\n",
            "Epoch: 13 Training loss: 0.1587 Training accuracy: 93.46%\n",
            "Epoch 13: Validation loss: 0.378 Validation accuracy: 87.0%\n",
            "Epoch: 14 Training loss: 0.1453 Training accuracy: 93.65%\n",
            "Epoch 14: Validation loss: 0.3927 Validation accuracy: 88.0%\n",
            "Epoch: 15 Training loss: 0.141 Training accuracy: 94.13%\n",
            "Epoch 15: Validation loss: 0.3808 Validation accuracy: 87.8%\n",
            "Epoch: 16 Training loss: 0.1303 Training accuracy: 94.81%\n",
            "Epoch 16: Validation loss: 0.4142 Validation accuracy: 87.8%\n",
            "Epoch: 17 Training loss: 0.1216 Training accuracy: 95.17%\n",
            "Epoch 17: Validation loss: 0.454 Validation accuracy: 87.6%\n",
            "Epoch: 18 Training loss: 0.1155 Training accuracy: 95.36%\n",
            "Epoch 18: Validation loss: 0.4509 Validation accuracy: 87.2%\n",
            "Epoch: 19 Training loss: 0.1005 Training accuracy: 96.01%\n",
            "Epoch 19: Validation loss: 0.4484 Validation accuracy: 87.8%\n",
            "Epoch: 20 Training loss: 0.0919 Training accuracy: 96.32%\n",
            "Epoch 20: Validation loss: 0.4809 Validation accuracy: 87.6%\n",
            "Epoch: 21 Training loss: 0.0866 Training accuracy: 96.57%\n",
            "Epoch 21: Validation loss: 0.4684 Validation accuracy: 88.0%\n",
            "Epoch: 22 Training loss: 0.0836 Training accuracy: 96.79%\n",
            "Epoch 22: Validation loss: 0.5159 Validation accuracy: 86.8%\n",
            "Epoch: 23 Training loss: 0.0855 Training accuracy: 96.69%\n",
            "Epoch 23: Validation loss: 0.4893 Validation accuracy: 87.8%\n",
            "Epoch: 24 Training loss: 0.0737 Training accuracy: 96.96%\n",
            "Epoch 24: Validation loss: 0.4769 Validation accuracy: 88.4%\n",
            "Epoch: 25 Training loss: 0.0648 Training accuracy: 97.59%\n",
            "Epoch 25: Validation loss: 0.5512 Validation accuracy: 87.4%\n",
            "Epoch: 26 Training loss: 0.074 Training accuracy: 97.27%\n",
            "Epoch 26: Validation loss: 0.4638 Validation accuracy: 88.0%\n",
            "Epoch: 27 Training loss: 0.0597 Training accuracy: 97.77%\n",
            "Epoch 27: Validation loss: 0.4844 Validation accuracy: 89.6%\n",
            "Epoch: 28 Training loss: 0.0554 Training accuracy: 97.98%\n",
            "Epoch 28: Validation loss: 0.489 Validation accuracy: 89.0%\n",
            "Epoch: 29 Training loss: 0.0583 Training accuracy: 97.8%\n",
            "Epoch 29: Validation loss: 0.5628 Validation accuracy: 89.0%\n",
            "Epoch: 30 Training loss: 0.0513 Training accuracy: 98.13%\n",
            "Epoch 30: Validation loss: 0.5186 Validation accuracy: 88.6%\n",
            "Epoch: 31 Training loss: 0.0456 Training accuracy: 98.32%\n",
            "Epoch 31: Validation loss: 0.5074 Validation accuracy: 88.6%\n",
            "Epoch: 32 Training loss: 0.0515 Training accuracy: 97.93%\n",
            "Epoch 32: Validation loss: 0.5523 Validation accuracy: 87.2%\n",
            "Epoch: 33 Training loss: 0.0434 Training accuracy: 98.31%\n",
            "Epoch 33: Validation loss: 0.6078 Validation accuracy: 87.0%\n",
            "Epoch: 34 Training loss: 0.0472 Training accuracy: 98.24%\n",
            "Epoch 34: Validation loss: 0.5705 Validation accuracy: 87.2%\n",
            "Epoch: 35 Training loss: 0.0501 Training accuracy: 98.28%\n",
            "Epoch 35: Validation loss: 0.5501 Validation accuracy: 88.4%\n",
            "Epoch: 36 Training loss: 0.037 Training accuracy: 98.61%\n",
            "Epoch 36: Validation loss: 0.5777 Validation accuracy: 88.0%\n",
            "Epoch: 37 Training loss: 0.0348 Training accuracy: 98.72%\n",
            "Epoch 37: Validation loss: 0.5808 Validation accuracy: 87.8%\n",
            "Epoch: 38 Training loss: 0.0429 Training accuracy: 98.52%\n",
            "Epoch 38: Validation loss: 0.6649 Validation accuracy: 86.4%\n",
            "Epoch: 39 Training loss: 0.0377 Training accuracy: 98.67%\n",
            "Epoch 39: Validation loss: 0.5474 Validation accuracy: 88.6%\n"
          ]
        }
      ],
      "source": [
        "for epoch in range(EPOCHS):\n",
        "    train(epoch, model, optimizer, train_loader,\n",
        "          criterion, num_training_examples, device)\n",
        "    evaluate(epoch, model, val_loader, criterion,\n",
        "             num_val_examples, device)"
      ]
    },
    {
      "cell_type": "code",
      "execution_count": 98,
      "metadata": {
        "id": "3K3x-sX4Jc5C"
      },
      "outputs": [],
      "source": [
        "torch.save(model, f\"{main_directory}/{model_path}\")"
      ]
    },
    {
      "cell_type": "markdown",
      "metadata": {
        "id": "guBfw6t2RszI"
      },
      "source": [
        "### Evaluation"
      ]
    },
    {
      "cell_type": "code",
      "execution_count": 99,
      "metadata": {
        "id": "pWzHBS6pJejp"
      },
      "outputs": [],
      "source": [
        "model = torch.load(f\"{main_directory}/{model_path}\")"
      ]
    },
    {
      "cell_type": "code",
      "execution_count": 100,
      "metadata": {
        "colab": {
          "base_uri": "https://localhost:8080/"
        },
        "id": "RPKs92sXQ6Yp",
        "outputId": "b2216bbb-e53c-4370-d8f2-68b6eef0aa42"
      },
      "outputs": [
        {
          "name": "stdout",
          "output_type": "stream",
          "text": [
            "Epoch Test: Test loss: 0.7671 Test accuracy: 85.0%\n"
          ]
        }
      ],
      "source": [
        "evaluate(0, model, test_loader, criterion,\n",
        "         num_test_examples, device, loss_type=\"Test\")"
      ]
    }
  ],
  "metadata": {
    "accelerator": "GPU",
    "colab": {
      "gpuType": "L4",
      "provenance": []
    },
    "kernelspec": {
      "display_name": "Python 3",
      "name": "python3"
    },
    "language_info": {
      "name": "python"
    }
  },
  "nbformat": 4,
  "nbformat_minor": 0
}
